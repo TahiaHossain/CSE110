{
  "nbformat": 4,
  "nbformat_minor": 0,
  "metadata": {
    "colab": {
      "name": "TahiaHossain_21301164_02.ipynb",
      "provenance": []
    },
    "kernelspec": {
      "name": "python3",
      "display_name": "Python 3"
    },
    "language_info": {
      "name": "python"
    }
  },
  "cells": [
    {
      "cell_type": "code",
      "metadata": {
        "colab": {
          "base_uri": "https://localhost:8080/"
        },
        "id": "ahGXMFl8-AyN",
        "outputId": "7a93f5f2-bd3f-43ab-b301-76ded9a51f0a"
      },
      "source": [
        "# Task 1\n",
        "\n",
        "user_input = input(\"Please enter a string: \")\n",
        "my_list = user_input.split(',')\n",
        "\n",
        "#print(\"Input list:\", my_list)\n",
        "\n",
        "a_list = []\n",
        "add = 0\n",
        "\n",
        "new_list = []\n",
        "add_2 = 0\n",
        "\n",
        "for i in my_list :\n",
        "    a_list.append(int(i))\n",
        "    add = add + int(i)\n",
        "\n",
        "average = add / len(a_list) #average of previous list\n",
        "\n",
        "for j in a_list :\n",
        "    if j>average:\n",
        "        new_list.append(j)\n",
        "\n",
        "for k in new_list :\n",
        "    add_2 = add_2 + k\n",
        "    \n",
        "second_average = add_2 / len(new_list) #average of new list\n",
        "\n",
        "sorted_list = sorted(a_list)\n",
        "highest = sorted_list[-2]  \n",
        "\n",
        "print(\"Input list:\", a_list)\n",
        "print(\"Average of input list:\", average)\n",
        "print(\"New list:\", new_list)\n",
        "print(\"Average of the new list:\", second_average)\n",
        "print(\"The 2nd highest number from the list1:\", highest)\n",
        "\n",
        "if second_average>second_max :\n",
        "    print(\"It's a miracle!!!!\")\n",
        "else:\n",
        "    print(\"Just another normal day!!!\")"
      ],
      "execution_count": 14,
      "outputs": [
        {
          "output_type": "stream",
          "name": "stdout",
          "text": [
            "Please enter a string: 10,12,2,17,14\n",
            "Input list: [10, 12, 2, 17, 14]\n",
            "Average of input list: 11.0\n",
            "New list: [12, 17, 14]\n",
            "Average of the new list: 14.333333333333334\n",
            "The 2nd highest number from the list1: 14\n",
            "It's a miracle!!!!\n"
          ]
        }
      ]
    },
    {
      "cell_type": "code",
      "metadata": {
        "colab": {
          "base_uri": "https://localhost:8080/"
        },
        "id": "5lhLU5hJDAI1",
        "outputId": "4599a8b9-8259-4cec-c08d-303cca2fce7a"
      },
      "source": [
        "# Task 2\n",
        "\n",
        "current_sem_data = {\"John\":[4.0,3.7,4.0], \"Tom\":[3.3,3.7,4.0], \"Harry\":[3.3,3.7,4.0]}\n",
        "previous_sem_data = {\"John\":[3.88,90], \"Tom\":[3.52, 70], \"Harry\":[3.25,85]}\n",
        "\n",
        "student_name = input(\"Enter your desired student's name: \")\n",
        "\n",
        "result = 0\n",
        "\n",
        "previous_total_gpa = 1\n",
        "previous_credits = 0\n",
        "total_credits_completed = 0\n",
        "\n",
        "for i in current_sem_data[student_name]:\n",
        "      result = result + i\n",
        "\n",
        "for j in previous_sem_data[student_name]:\n",
        "      previous_total_gpa = previous_total_gpa * j\n",
        "\n",
        "previous_credits = previous_credits + previous_sem_data[student_name][1]\n",
        "previous_cgpa = previous_sem_data[student_name][0]\n",
        "\n",
        "total_credits_completed = total_credits_completed + (len(current_sem_data[\"John\"])*3)\n",
        "total_credits_completed = total_credits_completed + previous_credits\n",
        "\n",
        "current_total_gpa = 3*result\n",
        "cgpa = (current_total_gpa + previous_total_gpa) / total_credits_completed\n",
        "\n",
        "print(\"*****Data for {}*****\".format(student_name))\n",
        "print(\"Previous semester's completed credits:\", previous_credits)\n",
        "print(\"Previous semester's CGPA:\", previous_cgpa)\n",
        "print(\"Total Credits completed including current semester:\", total_credits_completed)\n",
        "print(\"Current semester's total GPA:\", current_total_gpa)\n",
        "print(\"Current semester's CGPA:\", cgpa)"
      ],
      "execution_count": 10,
      "outputs": [
        {
          "output_type": "stream",
          "name": "stdout",
          "text": [
            "Enter your desired student's name: Harry\n",
            "*****Data for Harry*****\n",
            "Previous semester's completed credits: 85\n",
            "Previous semester's CGPA: 3.25\n",
            "Total Credits completed including current semester: 94\n",
            "Current semester's total GPA: 33.0\n",
            "Current semester's CGPA: 3.2898936170212765\n"
          ]
        }
      ]
    },
    {
      "cell_type": "code",
      "metadata": {
        "colab": {
          "base_uri": "https://localhost:8080/"
        },
        "id": "y2wjnXO_DCNF",
        "outputId": "e59bd70f-68c8-4e4a-d0e3-e8c8198ccb16"
      },
      "source": [
        "# Task 3\n",
        "\n",
        "def function_name(new) :\n",
        "    a_list = []\n",
        "\n",
        "    for x in new :\n",
        "        a_list.append(x)\n",
        "\n",
        "    for i in range(len(a_list)) :\n",
        "        for j in range(i+1,len(a_list)) :\n",
        "            if a_list[i] == a_list[j] :\n",
        "                a_list[i],a_list[j] = \"#\",\"#\"  # replace with repetitive characters (#)\n",
        "    new = ''\n",
        "\n",
        "    for i in a_list :\n",
        "        new = new + i\n",
        "    return(new)\n",
        "\n",
        "print(function_name(new = \"blueberry\"))"
      ],
      "execution_count": 13,
      "outputs": [
        {
          "output_type": "stream",
          "name": "stdout",
          "text": [
            "#lu#####y\n"
          ]
        }
      ]
    }
  ]
}