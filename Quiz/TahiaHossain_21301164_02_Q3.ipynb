{
  "nbformat": 4,
  "nbformat_minor": 0,
  "metadata": {
    "colab": {
      "name": "TahiaHossain_21301164_02.ipynb",
      "provenance": []
    },
    "kernelspec": {
      "name": "python3",
      "display_name": "Python 3"
    },
    "language_info": {
      "name": "python"
    }
  },
  "cells": [
    {
      "cell_type": "markdown",
      "metadata": {
        "id": "uHapilLty_7A"
      },
      "source": [
        "Write a python program that asks the user for a range (a starting number(inclusive) and an ending number(inclusive)). Make a dictionary with all the numbers that DO NOT end with 1, 2, and 7 within that range.\n",
        "Here in the dictionary, all the digits except 1, 2& 7 are the keys, and numbers that do not end with 1, 2 & 7 are the values. Finally, print the dictionary.\n",
        "\n",
        "================================================\n",
        "Sample Input 1:\n",
        "30\n",
        "50\n",
        "\n",
        "Sample Output 1:\n",
        "{0: [30, 40], 3: [33, 43], 4: [34, 44], 5: [35, 45], 6: [36, 46], 8: [38, 48], 9: [39, 49]}\n",
        "\n",
        "================================================\n",
        "Sample Input 2:\n",
        "370\n",
        "385\n",
        "\n",
        "Sample Output 2:\n",
        "{0: [370, 380], 3: [373, 383], 4: [374, 384], 5: [375], 6: [376], 8: [378], 9: [379]}"
      ]
    },
    {
      "cell_type": "code",
      "metadata": {
        "colab": {
          "base_uri": "https://localhost:8080/"
        },
        "id": "ATHQI7PjzAG4",
        "outputId": "7b53996d-3f6d-40be-da1b-53125ccae888"
      },
      "source": [
        "start = int(input(\"Pls enter the starting number (inclusive): \"))\n",
        "end = int(input(\"Pls enter the ending number (inclusive): \"))\n",
        "\n",
        "num_list = []\n",
        "\n",
        "for i in range (start, end) :\n",
        "  num_list.append(i)\n",
        "\n",
        "result = {}\n",
        "\n",
        "for j in num_list :\n",
        "  if str(j)[-1] not in result.keys() :\n",
        "    result[str(j)[-1]] = [j]\n",
        "  else :\n",
        "    result[str(j)[-1]].append(j)\n",
        "\n",
        "final = {}\n",
        "\n",
        "for k in result.keys() :\n",
        "  if k == '1' or k == '2' or k == '7' :\n",
        "    pass\n",
        "  else :\n",
        "    final[k] = result[k]\n",
        "\n",
        "print(final)"
      ],
      "execution_count": 8,
      "outputs": [
        {
          "output_type": "stream",
          "text": [
            "Pls enter the starting number (inclusive): 370\n",
            "Pls enter the ending number (inclusive): 385\n",
            "{'0': [370, 380], '3': [373, 383], '4': [374, 384], '5': [375], '6': [376], '8': [378], '9': [379]}\n"
          ],
          "name": "stdout"
        }
      ]
    }
  ]
}