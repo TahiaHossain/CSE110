{
  "nbformat": 4,
  "nbformat_minor": 0,
  "metadata": {
    "colab": {
      "name": "TahiaHossain_21301164_02.ipynb",
      "provenance": []
    },
    "kernelspec": {
      "name": "python3",
      "display_name": "Python 3"
    },
    "language_info": {
      "name": "python"
    }
  },
  "cells": [
    {
      "cell_type": "markdown",
      "metadata": {
        "id": "gcHSgmcI05Sa"
      },
      "source": [
        "Write a python program that will take a string, a starting index, and an ending index as inputs from the user. The program will print the second next character from the starting index to the ending index of the string. If the ending index is not valid, then print “Invalid Index”.\n",
        "================================\n",
        "Sample Input 1: \n",
        "bangladesh\n",
        "2\n",
        "7 \n",
        "\n",
        "Sample Output 1:\n",
        "pincfg\n",
        "Explanation1: Here the given string length is 10 and from index 2 to index 7 the characters will be “nglade”. Then it will print the second next character “pincfg”.\n",
        "\n",
        "================================\n",
        "Sample Input 2: \n",
        "science\n",
        "1\n",
        "7\n",
        "\n",
        "Sample Output 2:\n",
        "Invalid Index\n",
        "\n",
        "Explanation2: Here the end index is not valid. That is why it is printing Invalid Index”"
      ]
    },
    {
      "cell_type": "code",
      "metadata": {
        "colab": {
          "base_uri": "https://localhost:8080/"
        },
        "id": "V7dj23E_7-R0",
        "outputId": "05d231e4-9628-4171-b996-1b245dcc81b6"
      },
      "source": [
        "user_input = input(\"Please enter a string: \")\n",
        "index_start = int(input(\"Please enter the starting index: \"))\n",
        "index_end = int(input(\"Please enter the ending index: \"))\n",
        "\n",
        "output = \"\"\n",
        "\n",
        "if index1 > len(user_input)-1 :  #if the ending index is not valid\n",
        "  output = output + \"Invalid Index\"\n",
        "else :\n",
        "  for count in range (len(user_input)) :\n",
        "    if count >= index_start and count <= index_end :\n",
        "      output = output + chr(ord(user_input[count])+2)\n",
        "\n",
        "print(output)"
      ],
      "execution_count": 13,
      "outputs": [
        {
          "output_type": "stream",
          "text": [
            "Please enter a string: science\n",
            "Please enter the starting index: 1\n",
            "Please enter the ending index: 7\n",
            "Invalid Index\n"
          ],
          "name": "stdout"
        }
      ]
    }
  ]
}