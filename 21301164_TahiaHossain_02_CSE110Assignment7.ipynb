{
  "nbformat": 4,
  "nbformat_minor": 0,
  "metadata": {
    "kernelspec": {
      "display_name": "Python 3",
      "language": "python",
      "name": "python3"
    },
    "language_info": {
      "codemirror_mode": {
        "name": "ipython",
        "version": 3
      },
      "file_extension": ".py",
      "mimetype": "text/x-python",
      "name": "python",
      "nbconvert_exporter": "python",
      "pygments_lexer": "ipython3",
      "version": "3.8.4"
    },
    "colab": {
      "name": "21301164_TahiaHossain_02_CSE110Assignment7.ipynb",
      "provenance": [],
      "collapsed_sections": []
    }
  },
  "cells": [
    {
      "cell_type": "markdown",
      "metadata": {
        "id": "oMYzsTcnHEll"
      },
      "source": [
        "# CSE110 Lab Assignment 7 on Sorting and Searching\n",
        "\n",
        "Write your name, student id and CSE110 section below:\n"
      ]
    },
    {
      "cell_type": "code",
      "metadata": {
        "id": "ljd7OxU2gvWb"
      },
      "source": [
        "#STUDENT NAME: Tahia Hossain\n",
        "#STUDENT ID: 21301164\n",
        "#CSE110 SECTION: 02"
      ],
      "execution_count": null,
      "outputs": []
    },
    {
      "cell_type": "markdown",
      "metadata": {
        "id": "jT-t2zlnHEll"
      },
      "source": [
        "## Write the Python code for the following problems:\n",
        "**<font color='red'>[MUST MAINTAIN VARIABLE NAMING CONVENTIONS FOR ALL THE TASKS]</font>**\n",
        "\n",
        "### Task 1\n",
        "\n",
        "Suppose you have a list named my_list as given below. <br/>\n",
        "my_list = [10,1,20,3,6,2,5,11,15,2,12,14,17,18,29] <br/>\n",
        "Now use bubble sort to sort my_list into ascending order.\n",
        "\n",
        "**Output**<br/>\n",
        "[1, 2, 2, 3, 5, 6, 10, 11, 12, 14, 15, 17, 18, 20, 29]"
      ]
    },
    {
      "cell_type": "code",
      "metadata": {
        "id": "7qXVakLgHElm",
        "colab": {
          "base_uri": "https://localhost:8080/"
        },
        "outputId": "b45f8b99-37ef-483e-aa11-1e1c187efb53"
      },
      "source": [
        "#todo - Bubble sort starts arranging the elements from the top\n",
        "\n",
        "my_list = [10,1,20,3,6,2,5,11,15,2,12,14,17,18,29]\n",
        "\n",
        "for x in range (0,len(my_list)-1) :\n",
        "  for y in range (0,len(my_list)-x-1) :\n",
        "    if my_list[y] > my_list[y+1] :  #reverse can be done by changing the sign to <\n",
        "      store = my_list[y]\n",
        "      my_list[y] = my_list[y+1]\n",
        "      my_list[y+1] = store\n",
        "\n",
        "print(\"Output:\", my_list)"
      ],
      "execution_count": 16,
      "outputs": [
        {
          "output_type": "stream",
          "name": "stdout",
          "text": [
            "Output: [1, 2, 2, 3, 5, 6, 10, 11, 12, 14, 15, 17, 18, 20, 29]\n"
          ]
        }
      ]
    },
    {
      "cell_type": "markdown",
      "metadata": {
        "id": "w1QgeWd2HElp"
      },
      "source": [
        "### Task 2\n",
        "\n",
        "Suppose you have a list named my_list as given below. <br/>\n",
        "my_list = [10,1,20,3,6,2,5,11,15,2,12,14,17,18,29] <br/>\n",
        "Now use selection sort to sort my_list into ascending order.\n",
        "\n",
        "**Output**<br/>\n",
        "[1, 2, 2, 3, 5, 6, 10, 11, 12, 14, 15, 17, 18, 20, 29]\n",
        "\n"
      ]
    },
    {
      "cell_type": "code",
      "metadata": {
        "id": "am0B_8ICHElq",
        "colab": {
          "base_uri": "https://localhost:8080/"
        },
        "outputId": "741ec3fe-8325-4d76-f83f-1662f0b314f7"
      },
      "source": [
        "#todo Selection sort starts arranging the elements from the bottom\n",
        "\n",
        "my_list = [10,1,20,3,6,2,5,11,15,2,12,14,17,18,29]\n",
        "\n",
        "for x in range (0,len(my_list)) :\n",
        "  mini = my_list[x]\n",
        "  mini_zone = x\n",
        "\n",
        "  for y in range (x+1,len(my_list)) :\n",
        "    if mini > my_list[y] :\n",
        "      mini = my_list[y]\n",
        "      mini_zone = y\n",
        "\n",
        "  store = mini\n",
        "  my_list[mini_zone] = my_list[x]\n",
        "  my_list[x] = store\n",
        "\n",
        "print(\"Output:\", my_list)"
      ],
      "execution_count": 17,
      "outputs": [
        {
          "output_type": "stream",
          "name": "stdout",
          "text": [
            "Output: [1, 2, 2, 3, 5, 6, 10, 11, 12, 14, 15, 17, 18, 20, 29]\n"
          ]
        }
      ]
    },
    {
      "cell_type": "markdown",
      "metadata": {
        "id": "j4ffr2CAHElt"
      },
      "source": [
        "### Task  3\n",
        "\n",
        "Suppose you have a list named my_list as given below <br/>\n",
        "my_list=[10,1,20,3,6,2,5,11,15,2,12,14,17,18,29] <br/>\n",
        "Now use any of the two sorting techniques you have used above to sort the list in descending order.\n",
        "\n",
        "**Output**<br/>\n",
        "[29, 20, 18, 17, 15, 14, 12, 11, 10, 6, 5, 3, 2, 2, 1]\n"
      ]
    },
    {
      "cell_type": "code",
      "metadata": {
        "id": "n2X3YR-_HElt",
        "colab": {
          "base_uri": "https://localhost:8080/"
        },
        "outputId": "83e3494e-ac88-499c-b9b5-9ecb98581a5d"
      },
      "source": [
        "#todo\n",
        "\n",
        "my_list=[10,1,20,3,6,2,5,11,15,2,12,14,17,18,29]\n",
        "\n",
        "for x in range (0,len(my_list)-1) :\n",
        "  for y in range (0,len(my_list)-x-1) :\n",
        "    if my_list[y] < my_list[y+1] :  #reverse can be done by changing the sign only\n",
        "      store = my_list[y]\n",
        "      my_list[y] = my_list[y+1]\n",
        "      my_list[y+1] = store\n",
        "\n",
        "print(\"Output:\", my_list)"
      ],
      "execution_count": 18,
      "outputs": [
        {
          "output_type": "stream",
          "name": "stdout",
          "text": [
            "Output: [29, 20, 18, 17, 15, 14, 12, 11, 10, 6, 5, 3, 2, 2, 1]\n"
          ]
        }
      ]
    },
    {
      "cell_type": "markdown",
      "metadata": {
        "id": "9iYiiTWWHElw"
      },
      "source": [
        "### Task 4\n",
        "\n",
        "Suppose you have a sitting arrangement of the students who will give the final exam in a list. The list contains the last two digits of their student ID as given below.<br/>\n",
        "\n",
        "sitting_list = [10,30,20,70,11,15,22,16,58,100,12,56,70,80] <br/>\n",
        "\n",
        "Now you want to organize the sitting arrangement of the students in your own way. You decide to sort all the students in the even indices of the list in ascending order and all the students in the odd indices of the list in descending order.  <br/>\n",
        "\n",
        "So, write a python program that organizes the list for you in this way.<br/>\n",
        "\n",
        "\n",
        "**Sample Output**<br/>\n",
        "[10, 100, 11, 80, 12, 70, 20, 56, 22, 30, 58, 16, 70, 15]"
      ]
    },
    {
      "cell_type": "code",
      "metadata": {
        "id": "nPdUAKDJHElw",
        "colab": {
          "base_uri": "https://localhost:8080/"
        },
        "outputId": "50087f3a-39e8-4251-eb74-a2170faf53a4"
      },
      "source": [
        "#todo\n",
        "\n",
        "sitting_list = [10,30,20,70,11,15,22,16,58,100,12,56,70,80]\n",
        "\n",
        "even_index_list = []\n",
        "odd_index_list = []\n",
        "new_list = []\n",
        "\n",
        "for count in range (0,len(sitting_list)) :\n",
        "  if count % 2 == 0 :\n",
        "    even_index_list.append(sitting_list[count])\n",
        "  else :\n",
        "    odd_index_list.append(sitting_list[count])\n",
        "\n",
        "even = sorted(even_index_list,reverse = False)\n",
        "#print(even)\n",
        "odd = sorted(odd_index_list,reverse = True)\n",
        "#print(odd)\n",
        "\n",
        "for count in range (0,len(even)) :\n",
        "  new_list.append(even[count])\n",
        "  new_list.append(odd[count])\n",
        "\n",
        "print(\"Output:\", new_list)"
      ],
      "execution_count": 19,
      "outputs": [
        {
          "output_type": "stream",
          "name": "stdout",
          "text": [
            "Output: [10, 100, 11, 80, 12, 70, 20, 56, 22, 30, 58, 16, 70, 15]\n"
          ]
        }
      ]
    },
    {
      "cell_type": "markdown",
      "metadata": {
        "id": "oVR1Tsa0HElz"
      },
      "source": [
        "### Task 5\n",
        "\n",
        "Suppose a list contains marks earned in the courses CSE110, PHY111, and MAT110 of each student consecutively in a nested list form. Your task is to take a course name as input from the user and sort the list based on the marks obtained in that course in order to finally print the names of the students in descending order of marks obtained i.e. from the student who earned the highest marks to the student who earned the lowest. <br/>\n",
        "\n",
        "For example, the list may look like <br/>\n",
        "lst = [ [\"Alan\", 95, 87, 91], [\"Turing\", 92, 90, 83], [\"Elon\", 87, 92, 80], [\"Musk\", 85, 94, 90] ] <br/>\n",
        "where for each nested list, 1st index holds the name of the student, 2nd index is total marks earned in the CSE110 course, 3rd index is PHY111 marks and 4th index is MAT110 marks. \n",
        "\n",
        "=====================================================\n",
        "\n",
        "**Hint:**<br/>\n",
        "You may create a function for sorting, then call it every time when needed instead of rewriting the code.\n",
        "\n",
        "You may get the data in the individual lists from the given nested list.\n",
        "\n",
        "=====================================================\n",
        "\n",
        "**Sample Input 1**<br/>\n",
        "MAT110\n",
        "\n",
        "**Sample Output 1**<br/>\n",
        "Alan <br/>\n",
        "Musk <br/>\n",
        "Turing <br/>\n",
        "Elon\n",
        "\n",
        "**Explanation:**<br/>\n",
        "Here the user gives us \"MAT110\" as the course name. Now, the students Alan, Turing, Elon and Musk earned 91, 83, 80 and 90 marks respectively in this course. If we sort it, Alan got the highest marks of 91 followed by Musk with 90 marks and Turing with 83 marks. Among these 4 students, Elon obtained the lowest marks in the MAT110 course with 80 marks. All of these has been illustrated in our sample output.\n",
        "\n",
        "=====================================================\n",
        "\n",
        "**Sample Input 2**<br/>\n",
        "PHY111\n",
        "\n",
        "**Sample Output 2**<br/>\n",
        "Musk <br/>\n",
        "Elon <br/>\n",
        "Turing <br/>\n",
        "Alan"
      ]
    },
    {
      "cell_type": "code",
      "metadata": {
        "id": "539b2P1NHElz",
        "colab": {
          "base_uri": "https://localhost:8080/"
        },
        "outputId": "5a26857f-9073-42ef-9d3d-d8dc2866462d"
      },
      "source": [
        "#todo\n",
        "\n",
        "#students = int(input(\"Please enter the total number of students: \"))\n",
        "#a_list = []\n",
        "\n",
        "#for count in range (0,len(students)) :\n",
        "  #student_name = input(\"Please enter the name of student: \")\n",
        "\n",
        "\n",
        "course_name = input(\"Please enter the course name: \")\n",
        "lst = [[\"Alan\", 95, 87, 91], [\"Turing\", 92, 90, 83], [\"Elon\", 87, 92, 80], [\"Musk\", 85, 94, 90]]\n",
        "\n",
        "def sorting (lst,course_name) :\n",
        "  student_name = []\n",
        "  marks = []\n",
        "\n",
        "  if course_name == 'CSE110' :\n",
        "    for item in range (len(lst)) :\n",
        "      student_name.append(lst[item][0])\n",
        "      marks.aopend(lst[item][1])\n",
        "\n",
        "  if course_name == 'PHY111' :\n",
        "    for item in range (len(lst)) :\n",
        "      student_name.append(lst[item][0])\n",
        "      marks.append(lst[item][2])\n",
        "\n",
        "  if course_name == 'MAT110' :\n",
        "    for item in range (len(lst)) :\n",
        "      student_name.append(lst[item][0])\n",
        "      marks.append(lst[item][3])\n",
        "\n",
        "  for x in range (len(marks)) :\n",
        "    for y in range (len(marks)-x-1) :\n",
        "      if marks[y] < marks[y+1] :\n",
        "        marks[y], marks[y+1] = marks[y+1], marks[y]\n",
        "        student_name[y], student_name[y+1] = student_name[y+1], student_name[y]\n",
        "\n",
        "  for name in student_name :\n",
        "    print(name)\n",
        "sorting(lst,course_name)"
      ],
      "execution_count": 21,
      "outputs": [
        {
          "output_type": "stream",
          "name": "stdout",
          "text": [
            "Please enter the course name: PHY111\n",
            "Musk\n",
            "Elon\n",
            "Turing\n",
            "Alan\n"
          ]
        }
      ]
    },
    {
      "cell_type": "markdown",
      "metadata": {
        "id": "B0Rqbyi4HEl2"
      },
      "source": [
        "### Task 6\n",
        "\n",
        "Suppose you have a list named my_list as given below. Your task is to sort the list in ascending order and print the count of numbers that have changed their positions in the process of sorting. <br/>\n",
        "\n",
        "my_list = [4, 2, 3, 1, 6, 5] <br/>\n",
        "\n",
        "Sorted list would be [1, 2, 3, 4, 5, 6] where 4 numbers (4, 1, 6 and 5) have changed their positions. Therefore our sample output here would be 4. Please check if your code is working correctly by changing the above list and using the knowledge given here to verify whether your code gives correct output for all different lists.\n",
        "\n",
        "\n",
        "**Sample Output for the above list**<br/>\n",
        "4"
      ]
    },
    {
      "cell_type": "code",
      "metadata": {
        "id": "AMc8jAa7HEl2",
        "colab": {
          "base_uri": "https://localhost:8080/"
        },
        "outputId": "df4ec3f5-e724-4e91-e445-792f14879cc3"
      },
      "source": [
        "#todo\n",
        "\n",
        "my_list = [4, 2, 3, 1, 6, 5]\n",
        "count = 0\n",
        "\n",
        "for x in range (len(my_list)) :\n",
        "  mini = my_list[x]\n",
        "  min_index = x\n",
        "\n",
        "  for y in range (x,len(my_list)):\n",
        "    if my_list[y] < mini :\n",
        "      mini = my_list[y]\n",
        "      min_index = y\n",
        "\n",
        "  if x != min_index :\n",
        "    store = my_list[min_index]\n",
        "    my_list[min_index] = my_list[x]\n",
        "    my_list[x] = store\n",
        "    count = count + 2\n",
        "\n",
        "print(\"Output:\", count)\n",
        "\n",
        "#print(\"Sorted List:\", my_list)"
      ],
      "execution_count": 3,
      "outputs": [
        {
          "output_type": "stream",
          "name": "stdout",
          "text": [
            "Output: 4\n"
          ]
        }
      ]
    },
    {
      "cell_type": "markdown",
      "metadata": {
        "id": "iIH5n0sJHEl5"
      },
      "source": [
        "### Task 7\n",
        "\n",
        "Write a python program that takes two lists from the user, merges the two lists, sorts the resulting list, and then finds the median of the elements in the two lists.\n",
        "\n",
        "=====================================================\n",
        "\n",
        "\n",
        "**Sample Input 1**<br/>\n",
        "list_one = [1, 2, 1, 4] <br/>\n",
        "list_two = [5, 4, 1]\n",
        "\n",
        "\n",
        "**Sample Output 1**<br/>\n",
        "Sorted list = [1, 1, 1, 2, 4, 4, 5] <br/>\n",
        "Median = 2\n",
        "\n",
        "=====================================================\n",
        "\n",
        "\n",
        "**Sample Input 2**<br/>\n",
        "list_one = [1, 7, 9, 10] <br/>\n",
        "list_two = [2, 7, 6, 5]\n",
        "\n",
        "\n",
        "**Sample Output 2**<br/>\n",
        "Sorted list = [1, 2, 5, 6, 7, 7, 9, 10] <br/>\n",
        "Median = 6.5\n",
        "\n"
      ]
    },
    {
      "cell_type": "code",
      "metadata": {
        "id": "KsFxC7XbHEl6",
        "colab": {
          "base_uri": "https://localhost:8080/"
        },
        "outputId": "1e138226-a947-4ae8-e309-565838c1daf3"
      },
      "source": [
        "#todo\n",
        "\n",
        "list_one = [int(i) for i in input(\"Please enter a list: \")[1:-1].split(\",\")]\n",
        "list_two = [int(i) for i in input(\"Please enter another list: \")[1:-1].split(\",\")]\n",
        "\n",
        "new_list = list_one + list_two\n",
        "\n",
        "for x in range (len(new_list)) :\n",
        "  for y in range (len(new_list)-x-1) :\n",
        "    if new_list[y] > new_list[y+1] :\n",
        "      new_list[y],new_list[y+1] = new_list[y+1], new_list[y]\n",
        "\n",
        "print(\"Sorted List =\", new_list)\n",
        "\n",
        "var = len(new_list) // 2\n",
        "\n",
        "if len(new_list) % 2 == 0 :\n",
        "  print(\"Median =\", (new_list[var] + new_list[var-1])/2)\n",
        "else :\n",
        "  print(\"Median =\", new_list[var])"
      ],
      "execution_count": 28,
      "outputs": [
        {
          "output_type": "stream",
          "name": "stdout",
          "text": [
            "Please enter a list: [1, 7, 9, 10]\n",
            "Please enter another list: [2, 7, 6, 5]\n",
            "Sorted List = [1, 2, 5, 6, 7, 7, 9, 10]\n",
            "Median = 6.5\n"
          ]
        }
      ]
    },
    {
      "cell_type": "markdown",
      "metadata": {
        "id": "-XKiwBR1HEl8"
      },
      "source": [
        "### Task 8\n",
        "\n",
        "\n",
        "Write a python program that takes a list from user containing both positive and negative numbers. The program then finds two pairs of values whose summation is closest to zero.\n",
        "\n",
        "=====================================================\n",
        "\n",
        "**Sample Input 1**<br/>\n",
        "list_one = [-10, 15, 2, 4, -4, 7, -8] \n",
        "\n",
        "\n",
        "**Sample Output 1**<br/>\n",
        "Two pairs which have the smallest sum = 4 and -4\n",
        "\n",
        "=====================================================\n",
        "\n",
        "\n",
        "**Sample Input 2**<br/>\n",
        "list_one = [1, -8, 4, -7, -20, 26, 70, -85]\n",
        "\n",
        "\n",
        "**Sample Output 2**<br/>\n",
        "Two pairs which have the smallest sum = 4 and -7"
      ]
    },
    {
      "cell_type": "code",
      "metadata": {
        "id": "5ORSGa5GHEl9",
        "colab": {
          "base_uri": "https://localhost:8080/"
        },
        "outputId": "f512b28f-7f9a-4a82-aedb-77367d9883f4"
      },
      "source": [
        "#todo\n",
        "\n",
        "user_input = input(\"Please enter a list: \")\n",
        "my_list = [int(i) for i in user_input[1:-1].split(\",\")]\n",
        "\n",
        "min_sum = abs(my_list[0] + my_list[1])\n",
        "\n",
        "x = 0\n",
        "y = 1\n",
        "\n",
        "for i in range (len(my_list)-1) :\n",
        "  for j in range (i+1,len(my_list)) :\n",
        "    add = abs(my_list[i] + my_list[j])\n",
        "\n",
        "    if add < min_sum :\n",
        "      min_sum = add\n",
        "      x = my_list[i]\n",
        "      y = my_list[j]\n",
        "\n",
        "print(\"Two pairs which have the smallest sum =\", x, \"and\", y)"
      ],
      "execution_count": 29,
      "outputs": [
        {
          "output_type": "stream",
          "name": "stdout",
          "text": [
            "Please enter a list: [-10, 15, 2, 4, -4, 7, -8]\n",
            "Two pairs which have the smallest sum = 4 and -4\n"
          ]
        }
      ]
    }
  ]
}